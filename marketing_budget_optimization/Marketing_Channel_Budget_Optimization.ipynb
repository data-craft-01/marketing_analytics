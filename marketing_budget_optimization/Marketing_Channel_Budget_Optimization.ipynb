{
  "nbformat": 4,
  "nbformat_minor": 0,
  "metadata": {
    "colab": {
      "provenance": []
    },
    "kernelspec": {
      "name": "python3",
      "display_name": "Python 3"
    },
    "language_info": {
      "name": "python"
    }
  },
  "cells": [
    {
      "cell_type": "markdown",
      "source": [
        "**Objective**  \n",
        "1. Maximize ROMI\n",
        "2. Given channel wise ROI, recommed how much to spend on which channel.\n",
        "\n",
        "**Prerequisite**  \n",
        "- Channel wise MoM historical ROI.\n",
        "\n",
        "**Approach**  \n",
        "1. This marketing budget allocation problem is a linear program.\n",
        "2. Use gurobi to find the optimal budget allocation.\n",
        "\n",
        "**Constraints**  \n",
        "1. The amount invested in print and TV should be no more than the amount spent on Facebook and Email.\n",
        "2. The total amount used in social media (Facebook, LinkedIn, Instagram, Snapchat, and Twitter) should be at least twice of SEO and AdWords.\n",
        "3. For each channel, the amount invested should not be more than $3M.\n",
        "\n",
        "**Model Consideration**\n",
        "1. Objective Function:\n",
        "- define a linear objective function that needs to be maximized or minimized. This function is usually represented as a linear combination of decision variables.\n",
        "- In this scenario, it's maximize ROMI\n",
        "\n",
        "2. Decision Variables:\n",
        "- Identify decision variables, which are the unknown quantities to be determined in the optimization process. These variables contribute to the objective function.\n",
        "- 10 decision variables - given 10 platforms, each representing investment amount (Print, TV, SEO, Adwords, FB, LinkedIn, Instagram, Snapchat, Twitter, Email)\n",
        "-\n",
        "3.\tConstraints:\n",
        "- Constraints are aligned with organizational guidelines.\n",
        "- Formulate linear constraints that represent the limitations or requirements of the problem. Constraints can be equalities or inequalities, and they involve the decision variables.\n",
        "4. Linear Programming Model:\n",
        "-\tCombine the objective function and constraints to create a linear programming model. The goal is to find the values of decision variables that optimize the objective function while satisfying all constraints.\n",
        "\n",
        "---------------------------------------------------------\n",
        "\n",
        "**ROMI**  \n",
        "ROMI = (Marketing revenue — Marketing expenses) / Marketing expenses * 100%.\n",
        "- What is a good ROMI ratio?\n",
        "-- According to George Deeb, a Managing Partner at a financial advisory firm, a healthy ROMI should be 5-10x on a revenue basis, or 2.5-5x on a gross profit basis. He prefers to use gross profit as the numerator and shoot for a 5x return, understanding most companies will be around 2.5x with a 50% gross margin.\n",
        "\n",
        "\n",
        "\n"
      ],
      "metadata": {
        "id": "QG6Nqc_xmW5o"
      }
    },
    {
      "cell_type": "markdown",
      "source": [
        "## 1. Importing required libraries & data source"
      ],
      "metadata": {
        "id": "VZupRV2Gqpt0"
      }
    },
    {
      "cell_type": "code",
      "source": [
        "# mount google drive\n",
        "from google.colab import files, drive\n",
        "\n",
        "drive.mount('/gdrive')\n",
        "\n",
        "# read the 1st required file\n",
        "val_set='/gdrive/My Drive/Marketing_Analytics/internal_external_roi_data.csv'"
      ],
      "metadata": {
        "colab": {
          "base_uri": "https://localhost:8080/"
        },
        "id": "CTAHoPGvqpaV",
        "outputId": "89c1d2d9-4e64-4b29-a3d5-81f2b95d1cdc"
      },
      "execution_count": null,
      "outputs": [
        {
          "output_type": "stream",
          "name": "stdout",
          "text": [
            "Drive already mounted at /gdrive; to attempt to forcibly remount, call drive.mount(\"/gdrive\", force_remount=True).\n"
          ]
        }
      ]
    },
    {
      "cell_type": "code",
      "source": [
        "! pip install gurobipy"
      ],
      "metadata": {
        "colab": {
          "base_uri": "https://localhost:8080/"
        },
        "id": "Mv5lPEPYrRBu",
        "outputId": "e2fba3f8-5bf3-4091-b894-16eaa84bd764"
      },
      "execution_count": null,
      "outputs": [
        {
          "output_type": "stream",
          "name": "stdout",
          "text": [
            "Collecting gurobipy\n",
            "  Downloading gurobipy-11.0.0-cp310-cp310-manylinux2014_x86_64.manylinux_2_17_x86_64.whl (13.4 MB)\n",
            "\u001b[2K     \u001b[90m━━━━━━━━━━━━━━━━━━━━━━━━━━━━━━━━━━━━━━━━\u001b[0m \u001b[32m13.4/13.4 MB\u001b[0m \u001b[31m59.1 MB/s\u001b[0m eta \u001b[36m0:00:00\u001b[0m\n",
            "\u001b[?25hInstalling collected packages: gurobipy\n",
            "Successfully installed gurobipy-11.0.0\n"
          ]
        }
      ]
    },
    {
      "cell_type": "code",
      "source": [
        "import numpy as np\n",
        "import pandas as pd\n",
        "import gurobipy as gp\n",
        "import matplotlib.pyplot as plt\n",
        "import seaborn as sns"
      ],
      "metadata": {
        "id": "Delx6ezarI0S"
      },
      "execution_count": null,
      "outputs": []
    },
    {
      "cell_type": "markdown",
      "source": [
        "## 2. Deriving channel level budget allocation"
      ],
      "metadata": {
        "id": "by16jdECrFDF"
      }
    },
    {
      "cell_type": "code",
      "source": [
        "roi_df = pd.read_csv(val_set)"
      ],
      "metadata": {
        "id": "95dBDxNhsITd"
      },
      "execution_count": null,
      "outputs": []
    },
    {
      "cell_type": "code",
      "execution_count": null,
      "metadata": {
        "colab": {
          "base_uri": "https://localhost:8080/",
          "height": 98
        },
        "id": "O-tYh34jlJ0K",
        "outputId": "284fc1df-40bc-4abd-adb0-181df513a050"
      },
      "outputs": [
        {
          "output_type": "stream",
          "name": "stdout",
          "text": [
            "Restricted license - for non-production use only - expires 2025-11-24\n"
          ]
        },
        {
          "output_type": "execute_result",
          "data": {
            "text/plain": [
              "   print   tv  seo  adwords  facebook  linkedin  instagram  snapchat  twitter  \\\n",
              "0    0.0  3.0  0.0      1.0       0.0       0.0        3.0       0.0      0.0   \n",
              "\n",
              "   email  objective value  \n",
              "0    3.0            0.456  "
            ],
            "text/html": [
              "\n",
              "  <div id=\"df-58939fbf-3334-4268-adc2-6e0240f06e96\" class=\"colab-df-container\">\n",
              "    <div>\n",
              "<style scoped>\n",
              "    .dataframe tbody tr th:only-of-type {\n",
              "        vertical-align: middle;\n",
              "    }\n",
              "\n",
              "    .dataframe tbody tr th {\n",
              "        vertical-align: top;\n",
              "    }\n",
              "\n",
              "    .dataframe thead th {\n",
              "        text-align: right;\n",
              "    }\n",
              "</style>\n",
              "<table border=\"1\" class=\"dataframe\">\n",
              "  <thead>\n",
              "    <tr style=\"text-align: right;\">\n",
              "      <th></th>\n",
              "      <th>print</th>\n",
              "      <th>tv</th>\n",
              "      <th>seo</th>\n",
              "      <th>adwords</th>\n",
              "      <th>facebook</th>\n",
              "      <th>linkedin</th>\n",
              "      <th>instagram</th>\n",
              "      <th>snapchat</th>\n",
              "      <th>twitter</th>\n",
              "      <th>email</th>\n",
              "      <th>objective value</th>\n",
              "    </tr>\n",
              "  </thead>\n",
              "  <tbody>\n",
              "    <tr>\n",
              "      <th>0</th>\n",
              "      <td>0.0</td>\n",
              "      <td>3.0</td>\n",
              "      <td>0.0</td>\n",
              "      <td>1.0</td>\n",
              "      <td>0.0</td>\n",
              "      <td>0.0</td>\n",
              "      <td>3.0</td>\n",
              "      <td>0.0</td>\n",
              "      <td>0.0</td>\n",
              "      <td>3.0</td>\n",
              "      <td>0.456</td>\n",
              "    </tr>\n",
              "  </tbody>\n",
              "</table>\n",
              "</div>\n",
              "    <div class=\"colab-df-buttons\">\n",
              "\n",
              "  <div class=\"colab-df-container\">\n",
              "    <button class=\"colab-df-convert\" onclick=\"convertToInteractive('df-58939fbf-3334-4268-adc2-6e0240f06e96')\"\n",
              "            title=\"Convert this dataframe to an interactive table.\"\n",
              "            style=\"display:none;\">\n",
              "\n",
              "  <svg xmlns=\"http://www.w3.org/2000/svg\" height=\"24px\" viewBox=\"0 -960 960 960\">\n",
              "    <path d=\"M120-120v-720h720v720H120Zm60-500h600v-160H180v160Zm220 220h160v-160H400v160Zm0 220h160v-160H400v160ZM180-400h160v-160H180v160Zm440 0h160v-160H620v160ZM180-180h160v-160H180v160Zm440 0h160v-160H620v160Z\"/>\n",
              "  </svg>\n",
              "    </button>\n",
              "\n",
              "  <style>\n",
              "    .colab-df-container {\n",
              "      display:flex;\n",
              "      gap: 12px;\n",
              "    }\n",
              "\n",
              "    .colab-df-convert {\n",
              "      background-color: #E8F0FE;\n",
              "      border: none;\n",
              "      border-radius: 50%;\n",
              "      cursor: pointer;\n",
              "      display: none;\n",
              "      fill: #1967D2;\n",
              "      height: 32px;\n",
              "      padding: 0 0 0 0;\n",
              "      width: 32px;\n",
              "    }\n",
              "\n",
              "    .colab-df-convert:hover {\n",
              "      background-color: #E2EBFA;\n",
              "      box-shadow: 0px 1px 2px rgba(60, 64, 67, 0.3), 0px 1px 3px 1px rgba(60, 64, 67, 0.15);\n",
              "      fill: #174EA6;\n",
              "    }\n",
              "\n",
              "    .colab-df-buttons div {\n",
              "      margin-bottom: 4px;\n",
              "    }\n",
              "\n",
              "    [theme=dark] .colab-df-convert {\n",
              "      background-color: #3B4455;\n",
              "      fill: #D2E3FC;\n",
              "    }\n",
              "\n",
              "    [theme=dark] .colab-df-convert:hover {\n",
              "      background-color: #434B5C;\n",
              "      box-shadow: 0px 1px 3px 1px rgba(0, 0, 0, 0.15);\n",
              "      filter: drop-shadow(0px 1px 2px rgba(0, 0, 0, 0.3));\n",
              "      fill: #FFFFFF;\n",
              "    }\n",
              "  </style>\n",
              "\n",
              "    <script>\n",
              "      const buttonEl =\n",
              "        document.querySelector('#df-58939fbf-3334-4268-adc2-6e0240f06e96 button.colab-df-convert');\n",
              "      buttonEl.style.display =\n",
              "        google.colab.kernel.accessAllowed ? 'block' : 'none';\n",
              "\n",
              "      async function convertToInteractive(key) {\n",
              "        const element = document.querySelector('#df-58939fbf-3334-4268-adc2-6e0240f06e96');\n",
              "        const dataTable =\n",
              "          await google.colab.kernel.invokeFunction('convertToInteractive',\n",
              "                                                    [key], {});\n",
              "        if (!dataTable) return;\n",
              "\n",
              "        const docLinkHtml = 'Like what you see? Visit the ' +\n",
              "          '<a target=\"_blank\" href=https://colab.research.google.com/notebooks/data_table.ipynb>data table notebook</a>'\n",
              "          + ' to learn more about interactive tables.';\n",
              "        element.innerHTML = '';\n",
              "        dataTable['output_type'] = 'display_data';\n",
              "        await google.colab.output.renderOutput(dataTable, element);\n",
              "        const docLink = document.createElement('div');\n",
              "        docLink.innerHTML = docLinkHtml;\n",
              "        element.appendChild(docLink);\n",
              "      }\n",
              "    </script>\n",
              "  </div>\n",
              "\n",
              "    </div>\n",
              "  </div>\n"
            ]
          },
          "metadata": {},
          "execution_count": 10
        }
      ],
      "source": [
        "# number of channels required for budgeting\n",
        "budget = 10\n",
        "\n",
        "# Convert column names to lowercase for case-insensitive matching\n",
        "roi_df.columns = roi_df.columns.str.lower()\n",
        "\n",
        "# Extract column names for decision variables\n",
        "var_names = roi_df.columns[1:].tolist()\n",
        "\n",
        "# Create an empty dataframe to store results\n",
        "results_df = pd.DataFrame(columns=var_names + ['objective value'])\n",
        "\n",
        "# Create a dictionary mapping column names to their respective ROI values\n",
        "roi_dict_1 = dict(zip(var_names, roi_df.iloc[0][1:].values))\n",
        "\n",
        "# Initiate model\n",
        "adver_mod_1 = gp.Model()\n",
        "\n",
        "# Decision Variables - Specify number of decision variables and assign names\n",
        "adver_mod_x_1 = adver_mod_1.addMVar(len(var_names), ub=3, name=var_names)\n",
        "\n",
        "# Specify number of decision variables and assign names\n",
        "adver_mod_x_1 = adver_mod_1.addMVar(len(var_names), ub=3, name=var_names)\n",
        "\n",
        "# Create a dictionary to map variable names to the decision variable objects\n",
        "var_dict = {name: adver_mod_x_1[j] for j, name in enumerate(var_names)}\n",
        "\n",
        "# Objective Function - Set objective using the roi_dict\n",
        "adver_mod_1.setObjective(gp.quicksum(roi_dict_1[name] * var_dict[name] for name in var_names), sense=gp.GRB.MAXIMIZE)\n",
        "\n",
        "# Add constraints\n",
        "adver_mod_1.addConstr(gp.quicksum(var_dict[name] for name in var_names) <= budget)  # Marketing Budget\n",
        "adver_mod_1.addConstr(var_dict['print'] + var_dict['tv'] - var_dict['facebook'] - var_dict['email'] <= 0)  # Print & TV Budget Constraint\n",
        "adver_mod_1.addConstr(gp.quicksum(var_dict[social] for social in ['facebook', 'linkedin', 'instagram', 'snapchat', 'twitter'] if social in var_names ) >= 2 * var_dict['seo'] + 2 * var_dict['adwords'])  # Social Media Budget Constraint\n",
        "\n",
        "adver_mod_1.Params.OutputFlag = 0\n",
        "\n",
        "# Optimize the model\n",
        "adver_mod_1.optimize()\n",
        "\n",
        "optimal_allocations = list(adver_mod_x_1.x)\n",
        "optimal_objvalue = adver_mod_1.objVal\n",
        "\n",
        "# Append results to the dataframe\n",
        "results_df.loc[0] = optimal_allocations + [optimal_objvalue]\n",
        "\n",
        "results_df"
      ]
    },
    {
      "cell_type": "code",
      "source": [
        "# Extract the first row and drop the 'objective value' column\n",
        "row1 = results_df.iloc[0].drop('objective value')\n",
        "\n",
        "base_color = sns.color_palette(\"coolwarm\", 10)[-2]\n",
        "highlight_color = sns.color_palette(\"coolwarm\", 10)[2]\n",
        "colors = [highlight_color if value == 3 else base_color for value in row1]\n",
        "\n",
        "# Plotting\n",
        "plt.figure(figsize=(8, 6))\n",
        "sns.barplot(y=row1.index, x=row1.values, palette=colors)\n",
        "\n",
        "plt.title('Investments for Each Platform (in Million)')\n",
        "plt.xlabel('Investment (in Million)')\n",
        "plt.ylabel('Platform')\n",
        "plt.xlim(0, 3)  # Set x-axis limit to 3 million\n",
        "plt.grid(axis='x', linestyle='--', alpha=0.7)\n",
        "\n",
        "sns.despine()\n",
        "\n",
        "# Display the plot\n",
        "plt.tight_layout()\n",
        "\n",
        "# plt.savefig(\"investment_plot_1.png\", format='png', dpi=300)\n",
        "\n",
        "plt.show()"
      ],
      "metadata": {
        "colab": {
          "base_uri": "https://localhost:8080/",
          "height": 607
        },
        "id": "eeGISuMxrp3X",
        "outputId": "350e5a08-ffff-4623-af30-7af36e35d2a4"
      },
      "execution_count": null,
      "outputs": [
        {
          "output_type": "display_data",
          "data": {
            "text/plain": [
              "<Figure size 800x600 with 1 Axes>"
            ],
            "image/png": "[encoded data removed]"
          },
          "metadata": {}
        }
      ]
    },
    {
      "cell_type": "markdown",
      "source": [
        "Output & Interpretation\n",
        "- Output indicates towards channelising funds into highest return platforms, maximizing ROMI and ensuring efficient utlization of marketing budget.  \n",
        "1. Model suggests to invest in highest ROI channel - TV/Instagram/Email > Adwords\n",
        "2. Projected ROI based on this allocation = $0.456Mn\n",
        "3. Pther channels didn't received any allocation, indicating that they might not be the most efficient channels for this specific marketing objective."
      ],
      "metadata": {
        "id": "cptj5UMFcUwW"
      }
    },
    {
      "cell_type": "code",
      "source": [],
      "metadata": {
        "id": "AGhfoxsBeCLm"
      },
      "execution_count": null,
      "outputs": []
    }
  ]
}